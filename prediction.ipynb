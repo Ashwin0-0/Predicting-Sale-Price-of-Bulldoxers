{
 "cells": [
  {
   "cell_type": "markdown",
   "id": "e4480a2d",
   "metadata": {},
   "source": [
    "# Predicting Sale Price of Bulldozers using Regression Model"
   ]
  },
  {
   "cell_type": "markdown",
   "id": "a0e11f0c",
   "metadata": {},
   "source": [
    "## 1. Problem Definition\n",
    "\n",
    "Predict the auction sale price for a piece of heavy equipment. (Kaggle Competition - Blue Book for Bulldozers)¶"
   ]
  },
  {
   "cell_type": "markdown",
   "id": "0656ea55",
   "metadata": {},
   "source": [
    "## 2. Data\n",
    "\n",
    "Train.csv, Valid.csv, Test.csv"
   ]
  },
  {
   "cell_type": "markdown",
   "id": "b0b4189f",
   "metadata": {},
   "source": [
    "## 3. Evaluation\n",
    "\n",
    "The evaluation metric of this problem is root mean squared log error (RMSLE)"
   ]
  },
  {
   "cell_type": "markdown",
   "id": "30ac21c0",
   "metadata": {},
   "source": [
    "## 4. Features\n",
    "\n"
   ]
  },
  {
   "cell_type": "markdown",
   "id": "0bff905c",
   "metadata": {},
   "source": [
    "## Importng the data"
   ]
  },
  {
   "cell_type": "code",
   "execution_count": 8,
   "id": "34aaed2c",
   "metadata": {},
   "outputs": [],
   "source": [
    "import pandas as pd\n",
    "import numpy as np\n",
    "import matplotlib.pyplot as plt\n",
    "import sklearn"
   ]
  },
  {
   "cell_type": "code",
   "execution_count": 10,
   "id": "797b5ed2",
   "metadata": {},
   "outputs": [],
   "source": [
    "# Importing data set\n",
    "df = pd.read_csv(\"Data/TrainAndValid.csv\",\n",
    "                 low_memory=False)"
   ]
  },
  {
   "cell_type": "code",
   "execution_count": null,
   "id": "684c847c",
   "metadata": {},
   "outputs": [],
   "source": []
  }
 ],
 "metadata": {
  "kernelspec": {
   "display_name": "Python 3 (ipykernel)",
   "language": "python",
   "name": "python3"
  },
  "language_info": {
   "codemirror_mode": {
    "name": "ipython",
    "version": 3
   },
   "file_extension": ".py",
   "mimetype": "text/x-python",
   "name": "python",
   "nbconvert_exporter": "python",
   "pygments_lexer": "ipython3",
   "version": "3.9.7"
  }
 },
 "nbformat": 4,
 "nbformat_minor": 5
}
